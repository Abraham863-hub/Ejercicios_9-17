{
 "cells": [
  {
   "cell_type": "markdown",
   "id": "f60711c7-2f14-4f59-9dfe-eb18fec99aa3",
   "metadata": {},
   "source": [
    "# Integrantes\n",
    "\n",
    "## Abraham Calva - 2C\n",
    "## Jean Paul Vidal Ceron - 2C\n",
    "## Alejandro Cruz Martinez - 2B\n",
    "## Marco Antonio Mendoza Calva - 2B"
   ]
  },
  {
   "cell_type": "code",
   "execution_count": 1,
   "id": "a20630b7-072f-4e63-8724-60d35d061cf4",
   "metadata": {},
   "outputs": [],
   "source": [
    "import math"
   ]
  },
  {
   "cell_type": "markdown",
   "id": "d1462863-d132-4388-8491-d05be8f20f96",
   "metadata": {},
   "source": [
    "## 9. Sólo para practicar. Los números telefónicos en la ciudad de Cuernavaca, Morelos, constan de siete dígitos."
   ]
  },
  {
   "cell_type": "markdown",
   "id": "9f655462-837b-4560-bf2b-21a7641c61f6",
   "metadata": {},
   "source": [
    "### a ) ¿Cuántas líneas telefónicas pueden crearse en esa ciudad? Recuerda que no pueden comenzar con cero."
   ]
  },
  {
   "cell_type": "code",
   "execution_count": 2,
   "id": "ebb36d98-86a7-4968-b88c-4ce4e711a52e",
   "metadata": {},
   "outputs": [
    {
     "name": "stdout",
     "output_type": "stream",
     "text": [
      "Número total de líneas telefónicas: 9000000\n"
     ]
    }
   ],
   "source": [
    "total_lines = 9 * 10**6\n",
    "print(f\"Número total de líneas telefónicas: {total_lines}\")"
   ]
  },
  {
   "cell_type": "markdown",
   "id": "e265ab19-487d-418b-a9a2-76a85b14b00f",
   "metadata": {},
   "source": [
    "### b ) Si los tres primeros dígitos representan una zona de Cuernavaca,¿cuántas líneas telefónicas pertenecen a la zona 326?"
   ]
  },
  {
   "cell_type": "code",
   "execution_count": 3,
   "id": "f93ca154-eb93-4cf1-baa9-29cfbcf71e41",
   "metadata": {},
   "outputs": [
    {
     "name": "stdout",
     "output_type": "stream",
     "text": [
      "Número de líneas telefónicas en la zona 326: 10000\n"
     ]
    }
   ],
   "source": [
    "zone_326_lines = 1 * 1 * 1 * 10**4\n",
    "print(f\"Número de líneas telefónicas en la zona 326: {zone_326_lines}\")"
   ]
  },
  {
   "cell_type": "markdown",
   "id": "f9aa98d7-709c-47e8-8add-9c9c0ae7b35c",
   "metadata": {},
   "source": [
    "## 10. Sólo para practicar. Se tiene la palabra MURCIÉLAGO. Si no se permiten repeticiones al usar las letras que la forman, determina:\n",
    "\n",
    "### a ) El número de palabras que puedes crear."
   ]
  },
  {
   "cell_type": "code",
   "execution_count": 4,
   "id": "d4ac3a57-0132-4f6d-b071-424bf94ce1a8",
   "metadata": {},
   "outputs": [
    {
     "name": "stdout",
     "output_type": "stream",
     "text": [
      "Número de palabras que se pueden crear: 3628800\n"
     ]
    }
   ],
   "source": [
    "from math import factorial\n",
    "\n",
    "# a) Cálculo del número de palabras que se pueden crear sin repetir las letras\n",
    "num_words = factorial(10)\n",
    "print(f\"Número de palabras que se pueden crear: {num_words}\")"
   ]
  },
  {
   "cell_type": "markdown",
   "id": "59bfb12a-f607-4d51-bfdc-00027079d43f",
   "metadata": {},
   "source": [
    "### b ) El número de palabras con cinco letras."
   ]
  },
  {
   "cell_type": "code",
   "execution_count": 17,
   "id": "dda53ca0-20ed-459f-8afd-e211a684ee12",
   "metadata": {},
   "outputs": [
    {
     "name": "stdout",
     "output_type": "stream",
     "text": [
      "Número de palabras con cinco letras: 30240\n"
     ]
    }
   ],
   "source": [
    "# b) Cálculo del número de palabras con cinco letras\n",
    "num_palabra_cinco = factorial(10) // factorial(5)\n",
    "print(f\"Número de palabras con cinco letras: {num_palabra_cinco}\")"
   ]
  },
  {
   "cell_type": "markdown",
   "id": "aa70c711-80bc-471a-9173-410f53c98367",
   "metadata": {},
   "source": [
    "### c ) La probabilidad de que una palabra de cinco letras termine en vocal."
   ]
  },
  {
   "cell_type": "code",
   "execution_count": 6,
   "id": "3114a7d4-c368-4c81-bfcf-b089570af22d",
   "metadata": {},
   "outputs": [
    {
     "name": "stdout",
     "output_type": "stream",
     "text": [
      "Probabilidad de que una palabra de cinco letras termine en vocal: 0.40%\n"
     ]
    }
   ],
   "source": [
    "# c) Cálculo de la probabilidad de que una palabra de cinco letras termine en vocal\n",
    "prob_cinco_vocal = (1 / num_palabra_cinco) * 100\n",
    "print(f\"Probabilidad de que una palabra de cinco letras termine en vocal: {prob_cinco_vocal:.2f}%\")"
   ]
  },
  {
   "cell_type": "markdown",
   "id": "20e9469e-54b5-491a-913a-962d5824e19c",
   "metadata": {},
   "source": [
    "## Ejercicio 11"
   ]
  },
  {
   "cell_type": "code",
   "execution_count": 19,
   "id": "a8f82b88-7b6c-436f-a926-997c5420396c",
   "metadata": {},
   "outputs": [
    {
     "name": "stdout",
     "output_type": "stream",
     "text": [
      "a) ¿Cuántas placas diferentes son posibles? 7762392\n"
     ]
    }
   ],
   "source": [
    "# a) ¿Cuántas placas diferentes son posibles? 9,583,200\n",
    "num = 9 * 9 * 9\n",
    "letra =22 * 22 * 22\n",
    "res = num * letra\n",
    "print(\"a) ¿Cuántas placas diferentes son posibles?\", res)"
   ]
  },
  {
   "cell_type": "code",
   "execution_count": 20,
   "id": "f7bbb251-44fb-45b9-a3b8-43a2140c85cf",
   "metadata": {},
   "outputs": [
    {
     "name": "stdout",
     "output_type": "stream",
     "text": [
      "el total de placas que terminan en vocal son: 24565\n"
     ]
    }
   ],
   "source": [
    "#b) ¿Cuántas placas diferentes terminan en vocal?\n",
    "vocales = 5\n",
    "consonantes = 22 - vocales\n",
    "\n",
    "r = vocales * (consonantes ** 3)\n",
    "print(\"el total de placas que terminan en vocal son:\" , r)\n",
    "\n"
   ]
  },
  {
   "cell_type": "code",
   "execution_count": 22,
   "id": "aec92fb9-93c9-4d82-9970-68545b7d022f",
   "metadata": {},
   "outputs": [
    {
     "name": "stdout",
     "output_type": "stream",
     "text": [
      "probabilidad es del 0.0016%\n"
     ]
    }
   ],
   "source": [
    "#c) ¿Cuál es la probabilidad de que una placa, elegida al azar, sea impar?\n",
    "dig = 5 ** 3\n",
    "\n",
    "probabilidad = (dig / res) * 100\n",
    "print(f\"probabilidad es del {probabilidad:.4f}%\")\n"
   ]
  },
  {
   "cell_type": "markdown",
   "id": "503c80a6-67e3-4f6e-aaec-72effa500d12",
   "metadata": {},
   "source": [
    "## Ejercicio 12\n",
    "\n",
    "- Servicios restauranteros. Una cadena de hamburguesas anuncia que se ofrecen 512 maneras de  pedir una hamburguesa. Un cliente puede elegir cualquiera de estos ingredientes: cátsup, mos-taza, mayonesa, aderezo de la casa, cebolla, pepinillos, jitomate, tocino y lechuga. ¿Crees que loque afirma la empresa sea cierto? Justifica tu respuesta.\n",
    "### justificacion\n",
    "Son 9 ingredientes y cada ingrediente puede o no ponerse en la hamburguesa.\n",
    "Así que cada ingrediente cuenta como 2 alternativas, ya sea si lleva el ingrediente o no.\n",
    "Lo cual sería\n",
    "2^9=512 maneras distintas.\n",
    "- Entoces podemos decir que lo que afirman es cierto"
   ]
  },
  {
   "cell_type": "code",
   "execution_count": 23,
   "id": "9031feae-2fb7-437b-8913-6ada0958410e",
   "metadata": {},
   "outputs": [
    {
     "name": "stdout",
     "output_type": "stream",
     "text": [
      "total de maneras de pedir una hamburgesa 512\n"
     ]
    }
   ],
   "source": [
    "num_ingredientes = 9\n",
    "maneras_pedir_amburgesa = 2**num_ingredientes\n",
    "print(\"total de maneras de pedir una hamburgesa\",maneras_pedir_amburgesa)\n"
   ]
  },
  {
   "cell_type": "markdown",
   "id": "0f5f68d6-125e-4838-96f8-ba61580a6992",
   "metadata": {},
   "source": [
    "## Ejercicio 13\n",
    "### Cultura. Una persona tiene un libro de cada uno de los autores siguientes: \n",
    "### Mario Vargas Llosa, \n",
    "### Alberto Ruy Sánchez, \n",
    "### Gabriel García Márquez,\n",
    "### Günther Grass,\n",
    "### Patrick Süskind, \n",
    "### Heinrich Böll, Arturo \n",
    "### Pérez-Reverte y \n",
    "### Camilo José Cela. \n",
    "### Como aún no los ha leído, quiere ponerlos en una repisa cerca de su cama. De acuerdo con esto, determina:"
   ]
  },
  {
   "cell_type": "markdown",
   "id": "e006bf80-c905-47cd-bbef-a013a34bdbc9",
   "metadata": {},
   "source": [
    "### a) ¿De cuántas formas puede acomodar los libros sobre la repisa?"
   ]
  },
  {
   "cell_type": "code",
   "execution_count": 7,
   "id": "dfada2ea-434d-4364-b558-f0f37eb66c78",
   "metadata": {},
   "outputs": [
    {
     "name": "stdout",
     "output_type": "stream",
     "text": [
      "Se pueden acomodar de: 40320 veces\n"
     ]
    }
   ],
   "source": [
    "formas_acomodar = math.factorial(8)\n",
    "print (\"Se pueden acomodar de:\" , formas_acomodar , \"veces\" )"
   ]
  },
  {
   "cell_type": "markdown",
   "id": "330f5236-8293-4d9a-be20-e4a0f8c49cc3",
   "metadata": {},
   "source": [
    "### b) ¿De cuántas maneras puede ordenarlos si quiere que los libros de autores latinoamericanos estén juntos?"
   ]
  },
  {
   "cell_type": "code",
   "execution_count": 8,
   "id": "85313c48-ef24-4e7e-9d10-8b95d736a680",
   "metadata": {},
   "outputs": [
    {
     "name": "stdout",
     "output_type": "stream",
     "text": [
      "4320\n"
     ]
    }
   ],
   "source": [
    "latinos = 3\n",
    "alemanes = 3\n",
    "españoles = 2\n",
    "no_latinos = alemanes + españoles\n",
    "no_lugares_latinos = 6\n",
    "orden_latinos = math.factorial(latinos) * math.factorial(no_latinos) * no_lugares_latinos\n",
    "print (orden_latinos)"
   ]
  },
  {
   "cell_type": "markdown",
   "id": "ffce54fd-a19e-458c-af4c-878797be8439",
   "metadata": {},
   "source": [
    "### c) ¿De cuántas formas puede acomodarlos, si los autores latinoamericanos deben estar juntos, así como los autores alemanes y los españoles también?"
   ]
  },
  {
   "cell_type": "code",
   "execution_count": 18,
   "id": "e9f05bf6-cbda-49fb-b262-8c0aef502b5d",
   "metadata": {},
   "outputs": [
    {
     "name": "stdout",
     "output_type": "stream",
     "text": [
      "432\n"
     ]
    }
   ],
   "source": [
    "fl = math.factorial(latinos)\n",
    "fa = math.factorial(alemanes)\n",
    "fe = math.factorial(españoles)\n",
    "\n",
    "n = math.factorial(3)\n",
    "\n",
    "autores_ordenados = (fl * fa * fe) * n\n",
    "\n",
    "print(autores_ordenados)"
   ]
  },
  {
   "cell_type": "markdown",
   "id": "f19d2fb8-2d81-4fc3-b020-231cbfc1b1d5",
   "metadata": {},
   "source": [
    "### d) Determina las probabilidades correspondientes a los incisos (b) y (c)."
   ]
  },
  {
   "cell_type": "code",
   "execution_count": 12,
   "id": "1a100b57-c177-409c-81d7-9213eed0fa4b",
   "metadata": {},
   "outputs": [
    {
     "name": "stdout",
     "output_type": "stream",
     "text": [
      "probabilidad inciso (b): 10.714285714285714 %\n",
      "probabilidad inciso (c): 1.0714285714285714 %\n"
     ]
    }
   ],
   "source": [
    "probabilidad_orden_latinos = (orden_latinos / formas_acomodar) * 100\n",
    "probabilidad_autores_ordenados = (autores_ordenados / formas_acomodar) * 100\n",
    "\n",
    "print(\"probabilidad inciso (b):\",probabilidad_orden_latinos, \"%\")\n",
    "print(\"probabilidad inciso (c):\",probabilidad_autores_ordenados, \"%\")"
   ]
  },
  {
   "cell_type": "markdown",
   "id": "b024f292-bc26-488d-a20d-5ffb8d269078",
   "metadata": {},
   "source": [
    "## Ejercicio 14"
   ]
  },
  {
   "cell_type": "markdown",
   "id": "b65d6ada-4fba-4af8-a1bc-d9e5db8ee842",
   "metadata": {},
   "source": [
    "### Finanzas. Se va a formar un portafolio de inversión de cuatro instrumentos financieros a partir de cinco de renta fija y seis de renta variable. ¿De cuántas maneras podría formarse el portafolio si:"
   ]
  },
  {
   "cell_type": "code",
   "execution_count": 27,
   "id": "8483cb30-c6d1-42c1-82e8-73aa3e4ca238",
   "metadata": {},
   "outputs": [],
   "source": [
    "\n",
    "num_fixed_income = 5\n",
    "num_variable_income = 6\n",
    "portfolio_size = 4\n",
    "\n"
   ]
  },
  {
   "cell_type": "markdown",
   "id": "74372207-3bcd-4464-8726-34f8bdcd95e7",
   "metadata": {},
   "source": [
    "### a) No hay restricciones?"
   ]
  },
  {
   "cell_type": "code",
   "execution_count": 28,
   "id": "31af0681-526e-478a-896d-61ad54b3c476",
   "metadata": {},
   "outputs": [
    {
     "name": "stdout",
     "output_type": "stream",
     "text": [
      "a) Número de portafolios sin restricciones: 330\n"
     ]
    }
   ],
   "source": [
    "num_portfolios_a = math.comb(num_fixed_income + num_variable_income, portfolio_size)\n",
    "print(f\"a) Número de portafolios sin restricciones: {num_portfolios_a}\")\n",
    "\n"
   ]
  },
  {
   "cell_type": "markdown",
   "id": "a24e1894-05c2-4f58-a5f8-fa62055ae1a2",
   "metadata": {},
   "source": [
    "### b) Debe haber dos instrumentos de renta fija y dos de renta variable?"
   ]
  },
  {
   "cell_type": "code",
   "execution_count": 29,
   "id": "8425d51c-32ea-4e57-a782-a42f5a16dc33",
   "metadata": {},
   "outputs": [
    {
     "name": "stdout",
     "output_type": "stream",
     "text": [
      "b) Número de portafolios con dos instrumentos de renta fija y dos de renta variable: 150\n"
     ]
    }
   ],
   "source": [
    "num_portfolios_b = math.comb(num_fixed_income, 2) * math.comb(num_variable_income, 2)\n",
    "print(f\"b) Número de portafolios con dos instrumentos de renta fija y dos de renta variable: {num_portfolios_b}\")\n"
   ]
  },
  {
   "cell_type": "markdown",
   "id": "251943e6-fb22-4cd4-80a0-c73fa3dcd19b",
   "metadata": {},
   "source": [
    "### c) No debe haber ningún instrumento de renta fija?"
   ]
  },
  {
   "cell_type": "code",
   "execution_count": 30,
   "id": "ca384edc-475c-49f5-997a-76b7e89faa71",
   "metadata": {},
   "outputs": [
    {
     "name": "stdout",
     "output_type": "stream",
     "text": [
      "c) Número de portafolios sin instrumentos de renta fija: 15\n"
     ]
    }
   ],
   "source": [
    "num_portfolios_c = math.comb(num_variable_income, portfolio_size)\n",
    "print(f\"c) Número de portafolios sin instrumentos de renta fija: {num_portfolios_c}\")\n"
   ]
  },
  {
   "cell_type": "markdown",
   "id": "30e35dc4-e701-4eb1-9e4d-7ba41398239e",
   "metadata": {},
   "source": [
    "### d) Debe haber tres instrumentos de renta fija?"
   ]
  },
  {
   "cell_type": "code",
   "execution_count": 31,
   "id": "5d6cb939-a720-4762-be42-db93cc6b473d",
   "metadata": {},
   "outputs": [
    {
     "name": "stdout",
     "output_type": "stream",
     "text": [
      "d) Número de portafolios con tres instrumentos de renta fija: 60\n"
     ]
    }
   ],
   "source": [
    "num_portfolios_d = math.comb(num_fixed_income, 3) * math.comb(num_variable_income, 1)\n",
    "print(f\"d) Número de portafolios con tres instrumentos de renta fija: {num_portfolios_d}\")\n"
   ]
  },
  {
   "cell_type": "markdown",
   "id": "ef987b14-f1a1-4438-b555-142619c64b07",
   "metadata": {},
   "source": [
    "### e) Calcula las probabilidades para los incisos anteriores."
   ]
  },
  {
   "cell_type": "code",
   "execution_count": 39,
   "id": "6a38db48-ea48-4f3d-987e-dbffdcc97265",
   "metadata": {},
   "outputs": [
    {
     "name": "stdout",
     "output_type": "stream",
     "text": [
      "e) Probabilidad de cada evento:\n",
      "   Sin restricciones: 100.00%\n",
      "   Dos instrumentos de renta fija y dos de renta variable: 45.45%\n",
      "   Sin instrumentos de renta fija: 4.55%\n",
      "   Tres instrumentos de renta fija: 18.18%\n"
     ]
    }
   ],
   "source": [
    "total_portfolios = math.comb(num_fixed_income + num_variable_income, portfolio_size)\n",
    "\n",
    "prob_a = (num_portfolios_a / total_portfolios) * 100\n",
    "prob_b = (num_portfolios_b / total_portfolios) * 100\n",
    "prob_c = (num_portfolios_c / total_portfolios) * 100\n",
    "prob_d = (num_portfolios_d / total_portfolios) * 100\n",
    "\n",
    "print(f\"e) Probabilidad de cada evento:\")\n",
    "print(f\"   Sin restricciones: {prob_a:.2f}%\")\n",
    "print(f\"   Dos instrumentos de renta fija y dos de renta variable: {prob_b:.2f}%\")\n",
    "print(f\"   Sin instrumentos de renta fija: {prob_c:.2f}%\")\n",
    "print(f\"   Tres instrumentos de renta fija: {prob_d:.2f}%\")"
   ]
  },
  {
   "cell_type": "markdown",
   "id": "4bc16018-1760-4f4b-b829-ddc655935fd5",
   "metadata": {},
   "source": [
    "## 15 Futbol. Tres parejas (tres hombres y tres mujeres) compran boletos para ir a un partido de los Pumas. Cuando llegan al estadio de Ciudad Universitaria les surge la duda de cómo sentarse en la fila. ¿De cuántas maneras pueden hacerlo si:\n",
    "\n",
    "a) No hay restricciones?\n",
    "\n",
    "b) Los hombres deben sentarse juntos?\n",
    "\n",
    "c) Deben sentarse por parejas?\n",
    "\n",
    "d) ¿Cuál es la probabilidad de cada uno de los eventos descritos en los incisos anteriores?\n",
    "\n",
    "e) ¿Crees que el futbol es un deporte sólo para hombres? Discútelo con tus compañeros de\n",
    "clase."
   ]
  },
  {
   "cell_type": "code",
   "execution_count": 43,
   "id": "a79cb9eb-20bd-41e4-8e30-1c6a9fc9075f",
   "metadata": {},
   "outputs": [
    {
     "name": "stdout",
     "output_type": "stream",
     "text": [
      "(a) : 720\n",
      "(b): 144\n",
      "(c): 48\n",
      "probabilidad del inciso a: 0.14 % \n",
      " probabilidad del inciso b: 20.00 % \n",
      " probabilidad del inciso c 6.67 %\n"
     ]
    }
   ],
   "source": [
    "no_r = math.factorial(6)\n",
    "print(\"(a) :\",no_r)\n",
    "\n",
    "hombres_juntos = math.factorial(4) * math.factorial(3)\n",
    "print(\"(b):\",hombres_juntos)\n",
    "\n",
    "sentarse_parejas = math.factorial(3) * (2 ** 3)\n",
    "print(\"(c):\", sentarse_parejas)\n",
    "\n",
    "prob_a = (1 / no_r) * 100\n",
    "prob_b = (hombres_juntos / no_r) * 100\n",
    "prob_c = (sentarse_parejas / no_r) * 100\n",
    "\n",
    "print(f\"probabilidad del inciso a: {prob_a:.2f} % \\n probabilidad del inciso b: {prob_b:.2f} % \\n probabilidad del inciso c {prob_c:.2f} %\")\n"
   ]
  },
  {
   "cell_type": "markdown",
   "id": "23b5fb20-a82c-4b02-a9ec-f4c23acfc471",
   "metadata": {},
   "source": [
    "## 16. Trabajo en equipo. En un grupo de 25 alumnos hay 13 chicas y 12 chicos. Se desean formar equipos de trabajo para realizar una investigación:\n",
    "\n",
    "a) ¿Cuántos equipos de cinco personas pueden formarse?\n",
    "\n",
    "b) ¿Cuántos equipos pueden formarse si debe haber una chica?\n",
    "\n",
    "c) ¿Cuántos equipos pueden formarse si debe haber dos chicas?\n",
    "\n",
    "d) Determina las probabilidades correspondientes a los incisos anteriores.\n",
    "\n",
    "e) ¿Qué ventajas o desventajas hay al trabajar en equipo? ¿Qué habilidades se desarrollan de\n",
    "esta manera? Coméntalo con tus compañeros de equipo y expongan sus ideas en clase."
   ]
  },
  {
   "cell_type": "code",
   "execution_count": 15,
   "id": "9412c7d6-71fb-4f23-9295-8f111b036e34",
   "metadata": {},
   "outputs": [
    {
     "name": "stdout",
     "output_type": "stream",
     "text": [
      "a) ¿Cuántos equipos de cinco personas pueden formarse? 53130\n",
      "b) ¿Cuántos equipos pueden formarse si debe haber una chica? 6435\n",
      "c) ¿Cuántos equipos pueden formarse si debe haber dos chicas? 17160\n",
      "probabilidad inciso (b) 12.111801242236025 %\n",
      "probabilidad inciso (c) 32.298136645962735 %\n"
     ]
    }
   ],
   "source": [
    "# Número de equipos de cinco personas que pueden formarse\n",
    "import math\n",
    "\n",
    "# Total de personas en el grupo\n",
    "total_personas = 25\n",
    "# Número de personas en cada equipo\n",
    "personas_por_equipo = 5\n",
    "\n",
    "# Calculando el número de equipos de cinco personas que pueden formarse\n",
    "equipos_5_personas = math.comb(total_personas, personas_por_equipo)\n",
    "\n",
    "# Número de equipos que pueden formarse si debe haber una chica\n",
    "chicas = 13\n",
    "chicos = 12\n",
    "\n",
    "# Equipos con al menos una chica\n",
    "equipos_con_chica = math.comb(chicas, 1) * math.comb(chicos, personas_por_equipo - 1)\n",
    "\n",
    "# Equipos con exactamente dos chicas\n",
    "equipos_dos_chicas = math.comb(chicas, 2) * math.comb(chicos, personas_por_equipo - 2)\n",
    "\n",
    "prob_b =  (equipos_con_chica / equipos_5_personas) * 100\n",
    "prob_c =  (equipos_dos_chicas / equipos_5_personas) * 100\n",
    "\n",
    "print(\"a) ¿Cuántos equipos de cinco personas pueden formarse?\", equipos_5_personas)\n",
    "print(\"b) ¿Cuántos equipos pueden formarse si debe haber una chica?\", equipos_con_chica)\n",
    "print(\"c) ¿Cuántos equipos pueden formarse si debe haber dos chicas?\", equipos_dos_chicas)\n",
    "print(\"probabilidad inciso (b)\", prob_b, \"%\")\n",
    "print(\"probabilidad inciso (c)\", prob_c, \"%\")"
   ]
  },
  {
   "cell_type": "markdown",
   "id": "802b85f6-52ae-4462-8543-684f7cbc6283",
   "metadata": {},
   "source": [
    "## 17. Control de calidad. Se tiene una caja con 24 latas y se sabe que dos están contaminadas. Se van a seleccionar tres latas al azar para someterlas a una prueba de control de calidad, es decir, para medir los estándares de calidad de la empresa.\n",
    "\n",
    "a) ¿Cuántas combinaciones de tres latas pueden hacerse?\n",
    "\n",
    "b) ¿Cuál es la probabilidad de que se seleccione una lata contaminada para la prueba?\n",
    "\n",
    "c) ¿Cuál es la probabilidad de que se seleccione al menos una lata contaminada para la prueba?\n",
    "\n",
    "d) ¿Y la probabilidad de que no se elijan latas contaminadas para la prueba?\n"
   ]
  },
  {
   "cell_type": "code",
   "execution_count": 44,
   "id": "cbff2f07-93c7-49fe-9b9d-f00586376e63",
   "metadata": {},
   "outputs": [
    {
     "name": "stdout",
     "output_type": "stream",
     "text": [
      "a) ¿Cuántas combinaciones de tres latas pueden hacerse? 2024\n",
      "b) ¿Cuál es la probabilidad de que se seleccione una lata contaminada para la prueba? 0.22826086956521738\n",
      "c) ¿Cuál es la probabilidad de que se seleccione al menos una lata contaminada para la prueba? 0.23913043478260865\n",
      "d) ¿Y la probabilidad de que no se elijan latas contaminadas para la prueba? 0.7608695652173914\n"
     ]
    }
   ],
   "source": [
    "# Número total de latas\n",
    "total_latas = 24\n",
    "# Número de latas contaminadas\n",
    "latas_contaminadas = 2\n",
    "# Número de latas a seleccionar\n",
    "latas_seleccionar = 3\n",
    "\n",
    "# a) Número de combinaciones de tres latas que pueden hacerse\n",
    "combinaciones_latas = math.comb(total_latas, latas_seleccionar)\n",
    "\n",
    "# b) Probabilidad de seleccionar una lata contaminada\n",
    "probabilidad_contaminada = (math.comb(latas_contaminadas, 1) * math.comb(total_latas - latas_contaminadas, 2)) / math.comb(total_latas, 3)\n",
    "\n",
    "# c) Probabilidad de seleccionar al menos una lata contaminada\n",
    "probabilidad_al_menos_una_contaminada = 1 - math.comb(total_latas - latas_contaminadas, latas_seleccionar) / math.comb(total_latas, latas_seleccionar)\n",
    "\n",
    "# d) Probabilidad de no seleccionar latas contaminadas\n",
    "probabilidad_no_contaminada = math.comb(total_latas - latas_contaminadas, latas_seleccionar) / math.comb(total_latas, latas_seleccionar)\n",
    "\n",
    "print(\"a) ¿Cuántas combinaciones de tres latas pueden hacerse?\", combinaciones_latas)\n",
    "print(\"b) ¿Cuál es la probabilidad de que se seleccione una lata contaminada para la prueba?\", probabilidad_contaminada)\n",
    "print(\"c) ¿Cuál es la probabilidad de que se seleccione al menos una lata contaminada para la prueba?\", probabilidad_al_menos_una_contaminada)\n",
    "print(\"d) ¿Y la probabilidad de que no se elijan latas contaminadas para la prueba?\", probabilidad_no_contaminada)"
   ]
  },
  {
   "cell_type": "code",
   "execution_count": null,
   "id": "79ca3560-9ddc-4ac2-9aec-8f3434b1096a",
   "metadata": {},
   "outputs": [],
   "source": []
  }
 ],
 "metadata": {
  "kernelspec": {
   "display_name": "Python 3 (ipykernel)",
   "language": "python",
   "name": "python3"
  },
  "language_info": {
   "codemirror_mode": {
    "name": "ipython",
    "version": 3
   },
   "file_extension": ".py",
   "mimetype": "text/x-python",
   "name": "python",
   "nbconvert_exporter": "python",
   "pygments_lexer": "ipython3",
   "version": "3.11.4"
  }
 },
 "nbformat": 4,
 "nbformat_minor": 5
}
